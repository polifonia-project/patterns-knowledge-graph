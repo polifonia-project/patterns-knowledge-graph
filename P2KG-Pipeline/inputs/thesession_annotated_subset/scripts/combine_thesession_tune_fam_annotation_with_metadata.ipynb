{
 "cells": [
  {
   "cell_type": "markdown",
   "metadata": {
    "pycharm": {
     "name": "#%% md\n"
    }
   },
   "source": [
    "## This notebook reads the csv metadata file for the annotated subset of The Session corpus (created by thesession_metadata_extraction.py) and adds tune family membership ground-truth annotation. This supplementary information is taken from a separate csv file holding manually-verified tune family membership data, which was obtained via a review of the musicological literature on Irish traditional music."
   ]
  },
  {
   "cell_type": "code",
   "execution_count": 9,
   "metadata": {
    "pycharm": {
     "name": "#%%\n"
    }
   },
   "outputs": [],
   "source": [
    "# imports\n",
    "\n",
    "import pandas as pd"
   ]
  },
  {
   "cell_type": "code",
   "execution_count": 10,
   "metadata": {
    "pycharm": {
     "name": "#%%\n"
    }
   },
   "outputs": [],
   "source": [
    "# TODO: Change local file paths throughout this notebook to Patterns Knowledge Graph repo paths."
   ]
  },
  {
   "cell_type": "code",
   "execution_count": 11,
   "metadata": {
    "pycharm": {
     "name": "#%%\n"
    }
   },
   "outputs": [
    {
     "name": "stdout",
     "output_type": "stream",
     "text": [
      "                           title    M                                 N    L  \\\n",
      "identifiers                                                                    \n",
      "1029         An Seanduine DÃ³ite  6/8   tune id: 1029; setting id: 1029  NaN   \n",
      "14252        An Seanduine DÃ³ite  6/8  tune id: 1029; setting id: 14252  NaN   \n",
      "25163        An Seanduine DÃ³ite  6/8  tune id: 1029; setting id: 25163  NaN   \n",
      "27315        An Seanduine DÃ³ite  6/8  tune id: 1029; setting id: 27315  NaN   \n",
      "27316        An Seanduine DÃ³ite  6/8  tune id: 1029; setting id: 27316  NaN   \n",
      "\n",
      "                  K                                          abc_score  \n",
      "identifiers                                                             \n",
      "1029         Dmajor   X:1029 T:An Seanduine DÃ³ite 1029 Z:Toni Riba...  \n",
      "14252        Dmajor    X:14252 T:An Seanduine DÃ³ite 14252 Z:Dr. Do...  \n",
      "25163        Dmajor    X:25163 T:An Seanduine DÃ³ite 25163 Z:bigsci...  \n",
      "27315        Gmajor    X:27315 T:An Seanduine DÃ³ite 27315 Z:DerryM...  \n",
      "27316        Gmajor    X:27316 T:An Seanduine DÃ³ite 27316 Z:DerryM...  \n"
     ]
    }
   ],
   "source": [
    "# Read corpus metadata file\n",
    "corpus_metadata_path = \"../metadata/thesession_subset_metadata.csv\"\n",
    "metadata = pd.read_csv(corpus_metadata_path, index_col=0)\n",
    "metadata.set_index('identifiers', inplace=True, drop=True)\n",
    "print(metadata.head())"
   ]
  },
  {
   "cell_type": "code",
   "execution_count": 33,
   "metadata": {
    "pycharm": {
     "name": "#%%\n"
    }
   },
   "outputs": [
    {
     "name": "stdout",
     "output_type": "stream",
     "text": [
      "                            tune_family\n",
      "identifiers                            \n",
      "27                        Drowsy Maggie\n",
      "75                           Hob or Nob\n",
      "84                             Gilderoy\n",
      "202          Jenny's Welcome to Charlie\n",
      "249                Road to Lisdoonvarna\n"
     ]
    }
   ],
   "source": [
    "import numpy as np\n",
    "# Read tune family annotation file\n",
    "tune_fams_path = \"../metadata/thesession_tune_family_annotation.csv\"\n",
    "tune_fams = pd.read_csv(tune_fams_path, index_col=0)\n",
    "# drop rows with duplicate index value. drop_duplicates doesn't do \n",
    "# what we need here. soln from: \n",
    "# https://stackoverflow.com/questions/13035764/remove-pandas-rows-with-duplicate-indices\n",
    "idx = np.unique(tune_fams.index.values, return_index = True )[1]\n",
    "tune_fams = tune_fams.iloc[idx]\n",
    "print(tune_fams.head())"
   ]
  },
  {
   "cell_type": "code",
   "execution_count": 34,
   "metadata": {
    "pycharm": {
     "name": "#%%\n"
    }
   },
   "outputs": [
    {
     "name": "stdout",
     "output_type": "stream",
     "text": [
      "                           title    M                                 N    L  \\\n",
      "identifiers                                                                    \n",
      "1029         An Seanduine DÃ³ite  6/8   tune id: 1029; setting id: 1029  NaN   \n",
      "14252        An Seanduine DÃ³ite  6/8  tune id: 1029; setting id: 14252  NaN   \n",
      "25163        An Seanduine DÃ³ite  6/8  tune id: 1029; setting id: 25163  NaN   \n",
      "27315        An Seanduine DÃ³ite  6/8  tune id: 1029; setting id: 27315  NaN   \n",
      "27316        An Seanduine DÃ³ite  6/8  tune id: 1029; setting id: 27316  NaN   \n",
      "\n",
      "                  K                                          abc_score  \\\n",
      "identifiers                                                              \n",
      "1029         Dmajor   X:1029 T:An Seanduine DÃ³ite 1029 Z:Toni Riba...   \n",
      "14252        Dmajor    X:14252 T:An Seanduine DÃ³ite 14252 Z:Dr. Do...   \n",
      "25163        Dmajor    X:25163 T:An Seanduine DÃ³ite 25163 Z:bigsci...   \n",
      "27315        Gmajor    X:27315 T:An Seanduine DÃ³ite 27315 Z:DerryM...   \n",
      "27316        Gmajor    X:27316 T:An Seanduine DÃ³ite 27316 Z:DerryM...   \n",
      "\n",
      "            tune_family  \n",
      "identifiers              \n",
      "1029         Hob or Nob  \n",
      "14252        Hob or Nob  \n",
      "25163        Hob or Nob  \n",
      "27315        Hob or Nob  \n",
      "27316        Hob or Nob  \n",
      "315\n"
     ]
    }
   ],
   "source": [
    "# lookup and add tune family membership information to metadata table\n",
    "res = metadata.join(tune_fams)\n",
    "# print and write to file\n",
    "print(res.head())\n",
    "print(len(res))\n",
    "out_path = \"../metadata/thesession_subset_metadata_with_tune_family_annotation.csv\"\n",
    "res.to_csv(out_path)"
   ]
  },
  {
   "cell_type": "code",
   "execution_count": null,
   "metadata": {
    "pycharm": {
     "name": "#%%\n"
    }
   },
   "outputs": [],
   "source": []
  }
 ],
 "metadata": {
  "kernelspec": {
   "display_name": "Python 3",
   "language": "python",
   "name": "python3"
  },
  "language_info": {
   "codemirror_mode": {
    "name": "ipython",
    "version": 3
   },
   "file_extension": ".py",
   "mimetype": "text/x-python",
   "name": "python",
   "nbconvert_exporter": "python",
   "pygments_lexer": "ipython3",
   "version": "3.8.5"
  }
 },
 "nbformat": 4,
 "nbformat_minor": 1
}
