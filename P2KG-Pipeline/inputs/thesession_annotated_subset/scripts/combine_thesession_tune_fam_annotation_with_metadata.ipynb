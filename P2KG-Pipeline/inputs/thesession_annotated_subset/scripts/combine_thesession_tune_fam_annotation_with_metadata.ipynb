{
 "cells": [
  {
   "cell_type": "markdown",
   "metadata": {
    "pycharm": {
     "name": "#%% md\n"
    }
   },
   "source": [
    "## This notebook reads the csv metadata file for the annotated subset of The Session corpus (created by thesession_metadata_extraction.py) and adds tune family membership ground-truth annotation. This supplementary information is taken from a separate csv file holding manually-verified tune family membership data, which was obtained via a review of the musicological literature on Irish traditional music."
   ]
  },
  {
   "cell_type": "code",
   "execution_count": 1,
   "metadata": {
    "pycharm": {
     "name": "#%%\n"
    }
   },
   "outputs": [],
   "source": [
    "# imports\n",
    "\n",
    "import pandas as pd"
   ]
  },
  {
   "cell_type": "code",
   "execution_count": 2,
   "metadata": {
    "pycharm": {
     "name": "#%%\n"
    }
   },
   "outputs": [],
   "source": [
    "# TODO: Change local file paths throughout this notebook to Patterns Knowledge Graph repo paths."
   ]
  },
  {
   "cell_type": "code",
   "execution_count": 3,
   "metadata": {
    "pycharm": {
     "name": "#%%\n"
    }
   },
   "outputs": [
    {
     "name": "stdout",
     "output_type": "stream",
     "text": [
      "             Unnamed: 0                title    M  \\\n",
      "identifiers                                         \n",
      "1029                  0  An Seanduine DÃ³ite  6/8   \n",
      "14252                 1  An Seanduine DÃ³ite  6/8   \n",
      "25163                 2  An Seanduine DÃ³ite  6/8   \n",
      "27315                 3  An Seanduine DÃ³ite  6/8   \n",
      "27316                 4  An Seanduine DÃ³ite  6/8   \n",
      "\n",
      "                                            N    L       K    R  \\\n",
      "identifiers                                                       \n",
      "1029          tune id: 1029; setting id: 1029  NaN  Dmajor  jig   \n",
      "14252        tune id: 1029; setting id: 14252  NaN  Dmajor  jig   \n",
      "25163        tune id: 1029; setting id: 25163  NaN  Dmajor  jig   \n",
      "27315        tune id: 1029; setting id: 27315  NaN  Gmajor  jig   \n",
      "27316        tune id: 1029; setting id: 27316  NaN  Gmajor  jig   \n",
      "\n",
      "                                                     abc_score  \n",
      "identifiers                                                     \n",
      "1029          X:1029 T:An Seanduine DÃ³ite 1029 Z:Toni Riba...  \n",
      "14252          X:14252 T:An Seanduine DÃ³ite 14252 Z:Dr. Do...  \n",
      "25163          X:25163 T:An Seanduine DÃ³ite 25163 Z:bigsci...  \n",
      "27315          X:27315 T:An Seanduine DÃ³ite 27315 Z:DerryM...  \n",
      "27316          X:27316 T:An Seanduine DÃ³ite 27316 Z:DerryM...  \n"
     ]
    }
   ],
   "source": [
    "# Read corpus metadata file\n",
    "corpus_metadata_path = \"../metadata/thesession_subset_metadata.csv\"\n",
    "metadata = pd.read_csv(corpus_metadata_path, index_col=0)\n",
    "metadata.set_index('identifiers', inplace=True, drop=True)\n",
    "print(metadata.head())"
   ]
  },
  {
   "cell_type": "code",
   "execution_count": 4,
   "metadata": {
    "pycharm": {
     "name": "#%%\n"
    }
   },
   "outputs": [
    {
     "name": "stdout",
     "output_type": "stream",
     "text": [
      "                            tune_family\n",
      "identifiers                            \n",
      "27                        Drowsy Maggie\n",
      "75                           Hob or Nob\n",
      "84                             Gilderoy\n",
      "202          Jenny's Welcome to Charlie\n",
      "249                Road to Lisdoonvarna\n"
     ]
    }
   ],
   "source": [
    "import numpy as np\n",
    "# Read tune family annotation file\n",
    "tune_fams_path = \"../metadata/thesession_tune_family_annotation.csv\"\n",
    "tune_fams = pd.read_csv(tune_fams_path, index_col=0)\n",
    "# drop rows with duplicate index value. drop_duplicates doesn't do \n",
    "# what we need here. soln from: \n",
    "# https://stackoverflow.com/questions/13035764/remove-pandas-rows-with-duplicate-indices\n",
    "idx = np.unique(tune_fams.index.values, return_index = True )[1]\n",
    "tune_fams = tune_fams.iloc[idx]\n",
    "print(tune_fams.head())"
   ]
  },
  {
   "cell_type": "code",
   "execution_count": 5,
   "metadata": {
    "pycharm": {
     "name": "#%%\n"
    }
   },
   "outputs": [
    {
     "name": "stdout",
     "output_type": "stream",
     "text": [
      "             Unnamed: 0                title    M  \\\n",
      "identifiers                                         \n",
      "1029                  0  An Seanduine DÃ³ite  6/8   \n",
      "14252                 1  An Seanduine DÃ³ite  6/8   \n",
      "25163                 2  An Seanduine DÃ³ite  6/8   \n",
      "27315                 3  An Seanduine DÃ³ite  6/8   \n",
      "27316                 4  An Seanduine DÃ³ite  6/8   \n",
      "\n",
      "                                            N    L       K    R  \\\n",
      "identifiers                                                       \n",
      "1029          tune id: 1029; setting id: 1029  NaN  Dmajor  jig   \n",
      "14252        tune id: 1029; setting id: 14252  NaN  Dmajor  jig   \n",
      "25163        tune id: 1029; setting id: 25163  NaN  Dmajor  jig   \n",
      "27315        tune id: 1029; setting id: 27315  NaN  Gmajor  jig   \n",
      "27316        tune id: 1029; setting id: 27316  NaN  Gmajor  jig   \n",
      "\n",
      "                                                     abc_score tune_family  \n",
      "identifiers                                                                 \n",
      "1029          X:1029 T:An Seanduine DÃ³ite 1029 Z:Toni Riba...  Hob or Nob  \n",
      "14252          X:14252 T:An Seanduine DÃ³ite 14252 Z:Dr. Do...  Hob or Nob  \n",
      "25163          X:25163 T:An Seanduine DÃ³ite 25163 Z:bigsci...  Hob or Nob  \n",
      "27315          X:27315 T:An Seanduine DÃ³ite 27315 Z:DerryM...  Hob or Nob  \n",
      "27316          X:27316 T:An Seanduine DÃ³ite 27316 Z:DerryM...  Hob or Nob  \n",
      "315\n"
     ]
    }
   ],
   "source": [
    "# lookup and add tune family membership information to metadata table\n",
    "res = metadata.join(tune_fams)\n",
    "# print and write to file\n",
    "print(res.head())\n",
    "print(len(res))\n",
    "out_path = \"../metadata/thesession_subset_metadata_with_tune_family_annotation.csv\"\n",
    "res.to_csv(out_path)"
   ]
  },
  {
   "cell_type": "code",
   "execution_count": null,
   "metadata": {
    "pycharm": {
     "name": "#%%\n"
    }
   },
   "outputs": [],
   "source": []
  }
 ],
 "metadata": {
  "kernelspec": {
   "display_name": "Python 3",
   "language": "python",
   "name": "python3"
  },
  "language_info": {
   "codemirror_mode": {
    "name": "ipython",
    "version": 3
   },
   "file_extension": ".py",
   "mimetype": "text/x-python",
   "name": "python",
   "nbconvert_exporter": "python",
   "pygments_lexer": "ipython3",
   "version": "3.11.4"
  }
 },
 "nbformat": 4,
 "nbformat_minor": 1
}
